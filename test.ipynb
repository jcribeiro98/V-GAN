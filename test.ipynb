{
 "cells": [
  {
   "cell_type": "code",
   "execution_count": 7,
   "metadata": {},
   "outputs": [],
   "source": [
    "import torch\n",
    "from torch import nn \n",
    "from src.vgan import VGAN_no_kl, VGAN"
   ]
  },
  {
   "cell_type": "code",
   "execution_count": 8,
   "metadata": {},
   "outputs": [
    {
     "name": "stderr",
     "output_type": "stream",
     "text": [
      "/tmp/ipykernel_197924/668379040.py:6: RuntimeWarning: covariance is not symmetric positive-semidefinite.\n",
      "  X_data = np.random.multivariate_normal(mean, cov, 2000)\n"
     ]
    },
    {
     "name": "stdout",
     "output_type": "stream",
     "text": [
      "Epoch 0 of 15\n"
     ]
    },
    {
     "name": "stderr",
     "output_type": "stream",
     "text": [
      "                                     \r"
     ]
    },
    {
     "name": "stdout",
     "output_type": "stream",
     "text": [
      "Average loss in the epoch: 4.565269351005554\n",
      "Epoch 1 of 15\n"
     ]
    },
    {
     "name": "stderr",
     "output_type": "stream",
     "text": [
      "                                     \r"
     ]
    },
    {
     "name": "stdout",
     "output_type": "stream",
     "text": [
      "Average loss in the epoch: 4.32158637046814\n",
      "Epoch 2 of 15\n"
     ]
    },
    {
     "name": "stderr",
     "output_type": "stream",
     "text": [
      "                                     \r"
     ]
    },
    {
     "name": "stdout",
     "output_type": "stream",
     "text": [
      "Average loss in the epoch: 4.576796531677246\n",
      "Epoch 3 of 15\n"
     ]
    },
    {
     "name": "stderr",
     "output_type": "stream",
     "text": [
      "                                     \r"
     ]
    },
    {
     "name": "stdout",
     "output_type": "stream",
     "text": [
      "Average loss in the epoch: 4.574655652046204\n",
      "Epoch 4 of 15\n"
     ]
    },
    {
     "name": "stderr",
     "output_type": "stream",
     "text": [
      "                                     \r"
     ]
    },
    {
     "name": "stdout",
     "output_type": "stream",
     "text": [
      "Average loss in the epoch: 4.562015533447266\n",
      "Epoch 5 of 15\n"
     ]
    },
    {
     "name": "stderr",
     "output_type": "stream",
     "text": [
      "                                     \r"
     ]
    },
    {
     "name": "stdout",
     "output_type": "stream",
     "text": [
      "Average loss in the epoch: 4.581433296203613\n",
      "Epoch 6 of 15\n"
     ]
    },
    {
     "name": "stderr",
     "output_type": "stream",
     "text": [
      "                                     \r"
     ]
    },
    {
     "name": "stdout",
     "output_type": "stream",
     "text": [
      "Average loss in the epoch: 4.562292218208313\n",
      "Epoch 7 of 15\n"
     ]
    },
    {
     "name": "stderr",
     "output_type": "stream",
     "text": [
      "                                     \r"
     ]
    },
    {
     "name": "stdout",
     "output_type": "stream",
     "text": [
      "Average loss in the epoch: 4.572883129119873\n",
      "Epoch 8 of 15\n"
     ]
    },
    {
     "name": "stderr",
     "output_type": "stream",
     "text": [
      "                                     \r"
     ]
    },
    {
     "name": "stdout",
     "output_type": "stream",
     "text": [
      "Average loss in the epoch: 4.557387948036194\n",
      "Epoch 9 of 15\n"
     ]
    },
    {
     "name": "stderr",
     "output_type": "stream",
     "text": [
      "                                     "
     ]
    },
    {
     "name": "stdout",
     "output_type": "stream",
     "text": [
      "Average loss in the epoch: 4.5713194608688354\n",
      "Epoch 10 of 15\n"
     ]
    },
    {
     "name": "stderr",
     "output_type": "stream",
     "text": [
      "                                     \r"
     ]
    },
    {
     "name": "stdout",
     "output_type": "stream",
     "text": [
      "Average loss in the epoch: 4.560381531715393\n",
      "Epoch 11 of 15\n"
     ]
    },
    {
     "name": "stderr",
     "output_type": "stream",
     "text": [
      "                                     \r"
     ]
    },
    {
     "name": "stdout",
     "output_type": "stream",
     "text": [
      "Average loss in the epoch: 4.570296883583069\n",
      "Epoch 12 of 15\n"
     ]
    },
    {
     "name": "stderr",
     "output_type": "stream",
     "text": [
      "                                     \r"
     ]
    },
    {
     "name": "stdout",
     "output_type": "stream",
     "text": [
      "Average loss in the epoch: 4.558804988861084\n",
      "Epoch 13 of 15\n"
     ]
    },
    {
     "name": "stderr",
     "output_type": "stream",
     "text": [
      "                                     \r"
     ]
    },
    {
     "name": "stdout",
     "output_type": "stream",
     "text": [
      "Average loss in the epoch: 4.562988042831421\n",
      "Epoch 14 of 15\n"
     ]
    },
    {
     "name": "stderr",
     "output_type": "stream",
     "text": [
      "                                     \r"
     ]
    },
    {
     "name": "stdout",
     "output_type": "stream",
     "text": [
      "Average loss in the epoch: 4.574044942855835\n",
      "Epoch 0 of 15\n"
     ]
    },
    {
     "name": "stderr",
     "output_type": "stream",
     "text": [
      "                                     \r"
     ]
    },
    {
     "name": "stdout",
     "output_type": "stream",
     "text": [
      "Average loss in the epoch Generator: nan\n",
      "Average loss in the epoch Detector: 30.340607166290283\n",
      "Epoch 1 of 15\n"
     ]
    },
    {
     "name": "stderr",
     "output_type": "stream",
     "text": [
      "                                     \r"
     ]
    },
    {
     "name": "stdout",
     "output_type": "stream",
     "text": [
      "Average loss in the epoch Generator: 2.384185791015625e-07\n",
      "Average loss in the epoch Detector: 30.340607166290283\n",
      "Epoch 2 of 15\n"
     ]
    },
    {
     "name": "stderr",
     "output_type": "stream",
     "text": [
      "                                     \r"
     ]
    },
    {
     "name": "stdout",
     "output_type": "stream",
     "text": [
      "Average loss in the epoch Generator: 7.152557373046875e-07\n",
      "Average loss in the epoch Detector: 30.340607166290283\n",
      "Epoch 3 of 15\n"
     ]
    },
    {
     "name": "stderr",
     "output_type": "stream",
     "text": [
      "                                     \r"
     ]
    },
    {
     "name": "stdout",
     "output_type": "stream",
     "text": [
      "Average loss in the epoch Generator: 8.344650268554688e-07\n",
      "Average loss in the epoch Detector: 30.340607166290283\n",
      "Epoch 4 of 15\n"
     ]
    },
    {
     "name": "stderr",
     "output_type": "stream",
     "text": [
      "                                     \r"
     ]
    },
    {
     "name": "stdout",
     "output_type": "stream",
     "text": [
      "Average loss in the epoch Generator: 1.1920928955078125e-07\n",
      "Average loss in the epoch Detector: 30.340607166290283\n",
      "Epoch 5 of 15\n"
     ]
    },
    {
     "name": "stderr",
     "output_type": "stream",
     "text": [
      "                                     \r"
     ]
    },
    {
     "name": "stdout",
     "output_type": "stream",
     "text": [
      "Average loss in the epoch Generator: -2.384185791015625e-07\n",
      "Average loss in the epoch Detector: 30.340607166290283\n",
      "Epoch 6 of 15\n"
     ]
    },
    {
     "name": "stderr",
     "output_type": "stream",
     "text": [
      "                                     \r"
     ]
    },
    {
     "name": "stdout",
     "output_type": "stream",
     "text": [
      "Average loss in the epoch Generator: -2.384185791015625e-07\n",
      "Average loss in the epoch Detector: 30.0629620552063\n",
      "Epoch 7 of 15\n"
     ]
    },
    {
     "name": "stderr",
     "output_type": "stream",
     "text": [
      "                                     \r"
     ]
    },
    {
     "name": "stdout",
     "output_type": "stream",
     "text": [
      "Average loss in the epoch Generator: 5.960464477539062e-07\n",
      "Average loss in the epoch Detector: 30.0629620552063\n",
      "Epoch 8 of 15\n"
     ]
    },
    {
     "name": "stderr",
     "output_type": "stream",
     "text": [
      "                                     \r"
     ]
    },
    {
     "name": "stdout",
     "output_type": "stream",
     "text": [
      "Average loss in the epoch Generator: 5.960464477539062e-07\n",
      "Average loss in the epoch Detector: 30.0629620552063\n",
      "Epoch 9 of 15\n"
     ]
    },
    {
     "name": "stderr",
     "output_type": "stream",
     "text": [
      "                                     \r"
     ]
    },
    {
     "name": "stdout",
     "output_type": "stream",
     "text": [
      "Average loss in the epoch Generator: 3.5762786865234375e-07\n",
      "Average loss in the epoch Detector: 30.0629620552063\n",
      "Epoch 10 of 15\n"
     ]
    },
    {
     "name": "stderr",
     "output_type": "stream",
     "text": [
      "                                     \r"
     ]
    },
    {
     "name": "stdout",
     "output_type": "stream",
     "text": [
      "Average loss in the epoch Generator: 1.1920928955078125e-07\n",
      "Average loss in the epoch Detector: 30.0629620552063\n",
      "Epoch 11 of 15\n"
     ]
    },
    {
     "name": "stderr",
     "output_type": "stream",
     "text": [
      "                                     \r"
     ]
    },
    {
     "name": "stdout",
     "output_type": "stream",
     "text": [
      "Average loss in the epoch Generator: 3.5762786865234375e-07\n",
      "Average loss in the epoch Detector: 30.0629620552063\n",
      "Epoch 12 of 15\n"
     ]
    },
    {
     "name": "stderr",
     "output_type": "stream",
     "text": [
      "                                     \r"
     ]
    },
    {
     "name": "stdout",
     "output_type": "stream",
     "text": [
      "Average loss in the epoch Generator: 3.5762786865234375e-07\n",
      "Average loss in the epoch Detector: 30.389099597930908\n",
      "Epoch 13 of 15\n"
     ]
    },
    {
     "name": "stderr",
     "output_type": "stream",
     "text": [
      "                                     \r"
     ]
    },
    {
     "name": "stdout",
     "output_type": "stream",
     "text": [
      "Average loss in the epoch Generator: 2.384185791015625e-07\n",
      "Average loss in the epoch Detector: 30.389099597930908\n",
      "Epoch 14 of 15\n"
     ]
    },
    {
     "name": "stderr",
     "output_type": "stream",
     "text": [
      "                                     "
     ]
    },
    {
     "name": "stdout",
     "output_type": "stream",
     "text": [
      "Average loss in the epoch Generator: 5.960464477539062e-07\n",
      "Average loss in the epoch Detector: 30.389099597930908\n"
     ]
    },
    {
     "name": "stderr",
     "output_type": "stream",
     "text": [
      "\r"
     ]
    }
   ],
   "source": [
    "import pandas as pd\n",
    "import numpy as np \n",
    "mean = [0, 0, 0, 0, 0, 0, 0, 0, 0, 0]\n",
    "cov = [[1, 0, 0, 0, 0, 0, 0, 0, 500, 500], [0, 1, 0, 0, 0, 0, 0, 0, 0, 0], [0, 0, 1, 0, 0, 0, 0, 0, 0, 0], [0, 0, 0, 1, 0, 0, 0, 0, 0, 0], [0, 0, 0, 0, 1, 0, 0, 0, 0, 0], [0, 0, 0, 0, 0, 1, 0, 0, 0, 0], [0, 0, 0, 0, 0, 0, 1, 0, 0, 0],\n",
    "           [0, 0, 0, 0, 0, 0, 0, 1, 0, 0], [500, 0, 0, 0, 0, 0, 0, 0, 1, 500], [500, 0, 0, 0, 0, 0, 0, 0, 500, 1]]\n",
    "X_data = np.random.multivariate_normal(mean, cov, 2000)\n",
    "\n",
    "model = VGAN_no_kl(epochs=15, lr=0.001)\n",
    "model.fit(X_data)\n",
    "model_kl = VGAN(epochs=15)\n",
    "model_kl.fit(X_data)"
   ]
  },
  {
   "cell_type": "code",
   "execution_count": 10,
   "metadata": {},
   "outputs": [
    {
     "data": {
      "text/plain": [
       "tensor([[False,  True,  True,  True,  True,  True, False,  True, False, False],\n",
       "        [False,  True,  True,  True,  True,  True, False,  True, False, False],\n",
       "        [False, False,  True,  True,  True, False, False, False, False, False],\n",
       "        [False, False,  True,  True,  True, False, False,  True, False, False],\n",
       "        [False,  True,  True,  True,  True,  True, False,  True, False, False],\n",
       "        [False,  True,  True,  True,  True,  True, False,  True, False, False],\n",
       "        [False, False,  True,  True,  True, False, False, False, False, False],\n",
       "        [False,  True,  True, False,  True,  True, False,  True, False, False],\n",
       "        [False,  True,  True, False,  True,  True, False,  True, False, False],\n",
       "        [False, False,  True,  True,  True, False, False, False, False, False]],\n",
       "       device='cuda:0')"
      ]
     },
     "execution_count": 10,
     "metadata": {},
     "output_type": "execute_result"
    }
   ],
   "source": [
    "model_kl.generate_subspaces(10)\n",
    "model.generate_subspaces(10)"
   ]
  }
 ],
 "metadata": {
  "kernelspec": {
   "display_name": "subsel_torch",
   "language": "python",
   "name": "python3"
  },
  "language_info": {
   "codemirror_mode": {
    "name": "ipython",
    "version": 3
   },
   "file_extension": ".py",
   "mimetype": "text/x-python",
   "name": "python",
   "nbconvert_exporter": "python",
   "pygments_lexer": "ipython3",
   "version": "3.12.5"
  }
 },
 "nbformat": 4,
 "nbformat_minor": 2
}
